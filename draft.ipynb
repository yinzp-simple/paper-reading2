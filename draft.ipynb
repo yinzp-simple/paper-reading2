{
 "cells": [
  {
   "cell_type": "code",
   "execution_count": 3,
   "source": [
    "s = 2\n",
    "a = [s] + [1]*5\n",
    "print(*a)"
   ],
   "outputs": [
    {
     "output_type": "stream",
     "name": "stdout",
     "text": [
      "2 1 1 1 1 1\n"
     ]
    }
   ],
   "metadata": {}
  },
  {
   "cell_type": "code",
   "execution_count": 2,
   "source": [
    "[1] + [2]"
   ],
   "outputs": [
    {
     "output_type": "execute_result",
     "data": {
      "text/plain": [
       "[1, 2]"
      ]
     },
     "metadata": {},
     "execution_count": 2
    }
   ],
   "metadata": {}
  },
  {
   "cell_type": "code",
   "execution_count": 7,
   "source": [
    "import torch\n",
    "celoss = torch.nn.CrossEntropyLoss()\n",
    "pred = torch.tensor([[0.1, 0.3, 0.6], [0.1, 0.8, 0.1], [0.1, 0.2, 0.7]])\n",
    "labels = torch.tensor([0, 1, 2])\n",
    "loss = celoss(pred, labels)\n",
    "loss.shape"
   ],
   "outputs": [
    {
     "output_type": "execute_result",
     "data": {
      "text/plain": [
       "torch.Size([])"
      ]
     },
     "metadata": {},
     "execution_count": 7
    }
   ],
   "metadata": {}
  },
  {
   "cell_type": "code",
   "execution_count": 12,
   "source": [
    "a = torch.Tensor([1])\n",
    "b = torch.Tensor([2])\n",
    "c = []\n",
    "c.append(a)\n",
    "c.append(b)\n",
    "print(c)\n",
    "d = torch.cat(c, dim=0)\n",
    "print(d)"
   ],
   "outputs": [
    {
     "output_type": "stream",
     "name": "stdout",
     "text": [
      "[tensor([1.]), tensor([2.])]\n",
      "tensor([1., 2.])\n"
     ]
    }
   ],
   "metadata": {}
  },
  {
   "cell_type": "code",
   "execution_count": 4,
   "source": [
    "import torch\n",
    "import torch.nn.functional as F\n",
    "\n",
    "noise_adaption = torch.nn.Parameter(torch.zeros(10, 9))\n",
    "teacher_acc = torch.Tensor([0.7])\n",
    "noise_adaption_softmax = F.softmax(noise_adaption, dim=1) * (1-teacher_acc)\n",
    "\n",
    "noise_adaption_layer = torch.zeros(10, 10)\n",
    "\n",
    "for i in range(10):\n",
    "    #第一行\n",
    "    if i == 0:\n",
    "        noise_adaption_layer[i] = torch.cat([teacher_acc, noise_adaption_softmax[i][i:]])\n",
    "    if i == 9:\n",
    "        noise_adaption_layer[i] = torch.cat([noise_adaption_softmax[i][:i], teacher_acc])\n",
    "    else:\n",
    "        noise_adaption_layer[i] = torch.cat([noise_adaption_softmax[i][:i], teacher_acc, noise_adaption_softmax[i][i:]])\n",
    "\n",
    "print(noise_adaption_layer)"
   ],
   "outputs": [
    {
     "output_type": "stream",
     "name": "stdout",
     "text": [
      "tensor([[0.7000, 0.0333, 0.0333, 0.0333, 0.0333, 0.0333, 0.0333, 0.0333, 0.0333,\n",
      "         0.0333],\n",
      "        [0.0333, 0.7000, 0.0333, 0.0333, 0.0333, 0.0333, 0.0333, 0.0333, 0.0333,\n",
      "         0.0333],\n",
      "        [0.0333, 0.0333, 0.7000, 0.0333, 0.0333, 0.0333, 0.0333, 0.0333, 0.0333,\n",
      "         0.0333],\n",
      "        [0.0333, 0.0333, 0.0333, 0.7000, 0.0333, 0.0333, 0.0333, 0.0333, 0.0333,\n",
      "         0.0333],\n",
      "        [0.0333, 0.0333, 0.0333, 0.0333, 0.7000, 0.0333, 0.0333, 0.0333, 0.0333,\n",
      "         0.0333],\n",
      "        [0.0333, 0.0333, 0.0333, 0.0333, 0.0333, 0.7000, 0.0333, 0.0333, 0.0333,\n",
      "         0.0333],\n",
      "        [0.0333, 0.0333, 0.0333, 0.0333, 0.0333, 0.0333, 0.7000, 0.0333, 0.0333,\n",
      "         0.0333],\n",
      "        [0.0333, 0.0333, 0.0333, 0.0333, 0.0333, 0.0333, 0.0333, 0.7000, 0.0333,\n",
      "         0.0333],\n",
      "        [0.0333, 0.0333, 0.0333, 0.0333, 0.0333, 0.0333, 0.0333, 0.0333, 0.7000,\n",
      "         0.0333],\n",
      "        [0.0333, 0.0333, 0.0333, 0.0333, 0.0333, 0.0333, 0.0333, 0.0333, 0.0333,\n",
      "         0.7000]], grad_fn=<CopySlices>)\n"
     ]
    }
   ],
   "metadata": {}
  },
  {
   "cell_type": "code",
   "execution_count": null,
   "source": [],
   "outputs": [],
   "metadata": {}
  }
 ],
 "metadata": {
  "orig_nbformat": 4,
  "language_info": {
   "name": "python",
   "version": "3.6.9",
   "mimetype": "text/x-python",
   "codemirror_mode": {
    "name": "ipython",
    "version": 3
   },
   "pygments_lexer": "ipython3",
   "nbconvert_exporter": "python",
   "file_extension": ".py"
  },
  "kernelspec": {
   "name": "python3",
   "display_name": "Python 3.6.9 64-bit"
  },
  "interpreter": {
   "hash": "31f2aee4e71d21fbe5cf8b01ff0e069b9275f58929596ceb00d14d90e3e16cd6"
  }
 },
 "nbformat": 4,
 "nbformat_minor": 2
}